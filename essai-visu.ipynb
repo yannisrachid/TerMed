{
 "cells": [
  {
   "cell_type": "markdown",
   "metadata": {},
   "source": [
    "**Passage à une fonction: nettoyage et création d'une dataframe contenant le numéro de dossier et l'annotation**\n",
    "\n",
    "à noter: ca ne marche pas avec les filehtml.ann mais avec les filepdf.ann\n"
   ]
  },
  {
   "cell_type": "code",
   "execution_count": null,
   "metadata": {},
   "outputs": [],
   "source": [
    "#La fonction pour Thib\n",
    "\n",
    "def filtrage(source,dest,data):   \n",
    "    '''fonction pour créer des dataframes contenant la source et destination du lien voulu\n",
    "    input: les annotation sources, dest et une dataframe \n",
    "    output: la dataframe filtrée '''\n",
    "\n",
    "    data=data[data['class_source']==source]\n",
    "    data=data[data['class_dest']==dest]\n",
    "\n",
    "    return(data.drop(['class_source','class_dest'], axis=1))"
   ]
  },
  {
   "cell_type": "markdown",
   "metadata": {},
   "source": [
    "**On va maintenant créer une fonction qui prend plusieurs dossiers et renvoie une dataframe associée à chaque annotation**"
   ]
  },
  {
   "cell_type": "code",
   "execution_count": 5,
   "metadata": {},
   "outputs": [],
   "source": [
    "import pandas as pd"
   ]
  },
  {
   "cell_type": "code",
   "execution_count": 12,
   "metadata": {},
   "outputs": [],
   "source": [
    "def creationDF1(dossiers):\n",
    "    '''la fonction retourne des dataframes des traitements, examens, pathologies\n",
    "    input: liste de DPI\n",
    "    output: dataframes avec une colonne contenant l annotation et une autre le numéro de doss associé\n",
    "    '''\n",
    "    \n",
    "    traitements=pd.DataFrame()\n",
    "    examens=pd.DataFrame()\n",
    "    pathologies=pd.DataFrame()\n",
    "    \n",
    "    for i in range(len(dossiers)):\n",
    "        \n",
    "        df= pd.read_csv(dossiers[i], sep='\\t')\n",
    "        # if len(df.columns) != 3 :\n",
    "            # print(dossiers[i])\n",
    "            \n",
    "        df.columns=['numéro','annotation','detail']\n",
    "    \n",
    "        df_ann = df['annotation'].convert_dtypes(convert_string=True)\n",
    "        df['annotation'] = df_ann.str.split(expand=True)[0]\n",
    "    \n",
    "        df.pop('numéro')\n",
    "\n",
    "        \n",
    "        df=df.pivot(columns='annotation')\n",
    "\n",
    "        df=df[('detail')]\n",
    "\n",
    "        df['Numéro Dossier']= i+1\n",
    "        \n",
    "        \n",
    "        #initialisation des dataframes:\n",
    "        df_trait=pd.DataFrame()\n",
    "        df_path=pd.DataFrame()\n",
    "        df_exam=pd.DataFrame()\n",
    "    \n",
    "        \n",
    "        \n",
    "        if 'traitement' in df.columns:\n",
    "            df_trait=df[['Numéro Dossier','traitement']].dropna()\n",
    "        \n",
    "        if 'pathologie' in df.columns:\n",
    "            df_path=df[['Numéro Dossier','pathologie']].dropna()\n",
    "        \n",
    "        if 'examen' in df.columns:\n",
    "            df_exam=df[['Numéro Dossier','examen']].dropna()\n",
    "        \n",
    "        traitements= traitements.append(df_trait, ignore_index=True)\n",
    "        pathologies= pathologies.append(df_path, ignore_index=True)\n",
    "        examens= examens.append(df_exam, ignore_index=True)\n",
    "        \n",
    "        \n",
    "    #juste pour avoir une visu de la data frame:\n",
    "    print(traitements)\n",
    "    print(\"---------------\")\n",
    "    print(pathologies)\n",
    "    print(\"---------------\")\n",
    "    print(examens)\n",
    "    \n",
    "    return(traitements, pathologies, examens)\n",
    "        \n",
    "        "
   ]
  },
  {
   "cell_type": "code",
   "execution_count": 15,
   "metadata": {},
   "outputs": [],
   "source": [
    "def creationDF(dossiers, annot):\n",
    "    '''la fonction retourne la dataframe de l'annotation voulue\n",
    "    input: liste de DPI, annotation ex 'Traitement'\n",
    "    output: dataframes avec une colonne contenant l annotation et une autre le numéro de doss associé\n",
    "    '''\n",
    "    \n",
    "    madf=pd.DataFrame()\n",
    "    \n",
    "    for i in range(len(dossiers)):\n",
    "        \n",
    "        df= pd.read_csv(dossiers[i], sep='\\t')\n",
    "        # if len(df.columns) != 3 :\n",
    "            # print(dossiers[i])\n",
    "            \n",
    "        df.columns=['numéro','annotation','detail']\n",
    "    \n",
    "        df_ann = df['annotation'].convert_dtypes(convert_string=True)\n",
    "        df['annotation'] = df_ann.str.split(expand=True)[0]\n",
    "    \n",
    "        df.pop('numéro')\n",
    "\n",
    "        \n",
    "        df=df.pivot(columns='annotation')\n",
    "\n",
    "        df=df[('detail')]\n",
    "\n",
    "        df['Numéro Dossier']= i+1\n",
    "        \n",
    "        \n",
    "        #initialisation des dataframes:\n",
    "        df_annot=pd.DataFrame()\n",
    "    \n",
    "              \n",
    "        if annot in df.columns:\n",
    "            df_annot=df[['Numéro Dossier',annot]].dropna()\n",
    "        \n",
    "        madf = madf.append(df_annot, ignore_index=True)\n",
    "            \n",
    "    return(madf)\n",
    "        \n",
    "        "
   ]
  },
  {
   "cell_type": "code",
   "execution_count": 6,
   "metadata": {},
   "outputs": [],
   "source": []
  },
  {
   "cell_type": "code",
   "execution_count": 3,
   "metadata": {},
   "outputs": [],
   "source": [
    "import os\n",
    "\n",
    "directory=os.getcwd()\n",
    "liste_dossiers=[]\n",
    "for filename in os.listdir(directory):\n",
    "    if 'filepdf' in filename:\n",
    "        liste_dossiers.append(filename)"
   ]
  },
  {
   "cell_type": "code",
   "execution_count": 21,
   "metadata": {},
   "outputs": [
    {
     "name": "stdout",
     "output_type": "stream",
     "text": [
      "annotation  Numéro Dossier                    examen\n",
      "0                        1       suivi psychiatrique\n",
      "1                        2               cystoscopie\n",
      "2                        2           examen clinique\n",
      "3                        2          contrôle un mois\n",
      "4                        2               cystoscopie\n",
      "...                    ...                       ...\n",
      "1683                   164      analyse histologique\n",
      "1684                   164           biopsie rectale\n",
      "1685                   164  exploration endoscopique\n",
      "1686                   164             échographique\n",
      "1687                   164       examen endoscopique\n",
      "\n",
      "[1688 rows x 2 columns]\n"
     ]
    }
   ],
   "source": [
    "Examens=creationDF(liste_dossiers,'examen')\n",
    "print(Examens)"
   ]
  },
  {
   "cell_type": "code",
   "execution_count": 22,
   "metadata": {},
   "outputs": [
    {
     "data": {
      "text/plain": [
       "0            suivi psychiatrique\n",
       "1                    cystoscopie\n",
       "2                examen clinique\n",
       "3               contrôle un mois\n",
       "4                    cystoscopie\n",
       "                  ...           \n",
       "1683        analyse histologique\n",
       "1684             biopsie rectale\n",
       "1685    exploration endoscopique\n",
       "1686               échographique\n",
       "1687         examen endoscopique\n",
       "Name: examen, Length: 1688, dtype: object"
      ]
     },
     "execution_count": 22,
     "metadata": {},
     "output_type": "execute_result"
    }
   ],
   "source": [
    "Examens.examen"
   ]
  },
  {
   "cell_type": "markdown",
   "metadata": {},
   "source": [
    "** Premiers essais de visu **"
   ]
  },
  {
   "cell_type": "code",
   "execution_count": 24,
   "metadata": {},
   "outputs": [
    {
     "data": {
      "text/plain": [
       "834"
      ]
     },
     "execution_count": 24,
     "metadata": {},
     "output_type": "execute_result"
    }
   ],
   "source": [
    "len(pd.unique(Examens.examen))"
   ]
  },
  {
   "cell_type": "code",
   "execution_count": 27,
   "metadata": {},
   "outputs": [
    {
     "data": {
      "text/plain": [
       "examen clinique                                           60\n",
       "fonction rénale                                           28\n",
       "échographie                                               26\n",
       "tension artérielle                                        24\n",
       "TDM                                                       22\n",
       "                                                          ..\n",
       "examen microscopique des fragments biopsiés                1\n",
       "EOGD                                                       1\n",
       "ETO                                                        1\n",
       "contrôle (clinique, biologique et tomodensitométrique)     1\n",
       "(UIV)                                                      1\n",
       "Name: examen, Length: 834, dtype: int64"
      ]
     },
     "execution_count": 27,
     "metadata": {},
     "output_type": "execute_result"
    }
   ],
   "source": [
    "#les examens les plus fréquents:\n",
    "Examens.examen.value_counts( normalize=False, sort=True, ascending=False, bins=None, dropna=True)"
   ]
  },
  {
   "cell_type": "code",
   "execution_count": null,
   "metadata": {},
   "outputs": [],
   "source": []
  },
  {
   "cell_type": "markdown",
   "metadata": {},
   "source": [
    "# Machine learning\n",
    "\n",
    "Quelques essais d'algorithmes de clustering"
   ]
  },
  {
   "cell_type": "code",
   "execution_count": null,
   "metadata": {},
   "outputs": [],
   "source": []
  },
  {
   "cell_type": "markdown",
   "metadata": {},
   "source": [
    "# Poubelle"
   ]
  },
  {
   "cell_type": "code",
   "execution_count": null,
   "metadata": {},
   "outputs": [],
   "source": [
    "import pandas as pd\n",
    "def transformation(numeroDossier, dossier):\n",
    "    df= pd.read_csv(dossier, sep='\\t')\n",
    "    df.columns=['numéro','annotation','detail']\n",
    "    \n",
    "    # on transforme les annotations qui sont de type object et précisent\n",
    "    #  la place dans le dossier du texte annoté en string \n",
    "    df_ann=df['annotation'].convert_dtypes(convert_string=True)\n",
    "    df['annotation']=df_ann.str.split(expand=True)[0]\n",
    "    \n",
    "    # on supprime la colonne numéro\n",
    "    df.pop('numéro')\n",
    "    \n",
    "    # on pivote la data frame pour pouvoir trier chaque détail par annotation\n",
    "    df=df.pivot(columns='annotation')\n",
    "\n",
    "    # on tej le multiindex détail qui sert à rien\n",
    "    df=df[('detail')]\n",
    "\n",
    "    # on ajoute une colonne numéro de doss\n",
    "    df['Numéro Dossier']= numeroDossier\n",
    "    \n",
    "    # on crée des dataframes indépendantes pour les annotations qui nous intéressent:\n",
    "    # traitement, pathologie et examen\n",
    "    df_trait=df[['Numéro Dossier','traitement']].dropna()\n",
    "    df_path=df[['Numéro Dossier','pathologie']].dropna()\n",
    "    df_exam=df[['Numéro Dossier','examen']].dropna()\n",
    "    print(df_path)\n",
    "    print(df_trait)\n",
    "    \n",
    " \n",
    "# exemple pour 1 fichier:\n",
    "transformation(numeroDossier=1,dossier='filepdf-5-cas.ann')\n",
    "\n",
    "transformation(numeroDossier=2,dossier='filepdf-17-cas.ann')\n",
    "\n",
    "        # dû à un problème de scope des variables de ma fonction transformation, \n",
    "        # je dois redéfinir cette même fonction dans celle-ci\n",
    "        # à l'origine j'avais écrit:\n",
    "        #transformation(numeroDossier=i+1, dossier=dossiers[i])\n",
    "        #pathologies.append(df_path)\n",
    "        #examens.append(df_exam)\n",
    "        #traitements.append(df_trait)"
   ]
  }
 ],
 "metadata": {
  "kernelspec": {
   "display_name": "Python 3",
   "language": "python",
   "name": "python3"
  },
  "language_info": {
   "codemirror_mode": {
    "name": "ipython",
    "version": 3
   },
   "file_extension": ".py",
   "mimetype": "text/x-python",
   "name": "python",
   "nbconvert_exporter": "python",
   "pygments_lexer": "ipython3",
   "version": "3.6.9"
  }
 },
 "nbformat": 4,
 "nbformat_minor": 2
}
