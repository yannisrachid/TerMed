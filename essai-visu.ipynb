{
 "cells": [
  {
   "cell_type": "markdown",
   "metadata": {},
   "source": [
    "Passage à une fonction\n"
   ]
  },
  {
   "cell_type": "code",
   "execution_count": 9,
   "metadata": {},
   "outputs": [],
   "source": [
    "import pandas as pd\n",
    "def transformation(numeroDossier, dossier):\n",
    "    df= pd.read_csv(dossier, sep='\\t')\n",
    "    df.columns=['numéro','annotation','detail']\n",
    "    df_ann=df['annotation'].convert_dtypes(convert_string=True)\n",
    "    df['annotation']=df_ann.str.split(expand=True)[0]\n",
    "    df.pop('numéro')\n",
    "    df=df.pivot(columns='annotation')\n",
    "    df_trait=df['detail'][['traitement']].dropna()\n",
    "    df_path=df['detail'][['pathologie']].dropna()\n",
    "    df_exam=df['detail'][['examen']].dropna()\n",
    "    #df_trait['annotation'].replace(value=numeroDossier)\n",
    "    print(df_trait)\n",
    "    \n",
    "    "
   ]
  },
  {
   "cell_type": "code",
   "execution_count": 10,
   "metadata": {},
   "outputs": [
    {
     "name": "stdout",
     "output_type": "stream",
     "text": [
      "annotation            traitement\n",
      "0           pénectomie partielle\n",
      "61                    amputation\n"
     ]
    }
   ],
   "source": [
    "transformation(numeroDossier=1,dossier='filepdf-5-cas.ann')"
   ]
  },
  {
   "cell_type": "code",
   "execution_count": null,
   "metadata": {},
   "outputs": [],
   "source": [
    "import plotly as plt\n",
    "import dash"
   ]
  },
  {
   "cell_type": "code",
   "execution_count": null,
   "metadata": {},
   "outputs": [],
   "source": []
  },
  {
   "cell_type": "code",
   "execution_count": null,
   "metadata": {},
   "outputs": [],
   "source": []
  }
 ],
 "metadata": {
  "kernelspec": {
   "display_name": "Python 3",
   "language": "python",
   "name": "python3"
  },
  "language_info": {
   "codemirror_mode": {
    "name": "ipython",
    "version": 3
   },
   "file_extension": ".py",
   "mimetype": "text/x-python",
   "name": "python",
   "nbconvert_exporter": "python",
   "pygments_lexer": "ipython3",
   "version": "3.6.9"
  }
 },
 "nbformat": 4,
 "nbformat_minor": 2
}
