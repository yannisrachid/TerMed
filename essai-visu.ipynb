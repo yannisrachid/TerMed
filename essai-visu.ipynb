{
 "cells": [
  {
   "cell_type": "markdown",
   "metadata": {},
   "source": [
    "**Passage à une fonction: nettoyage et création d'une dataframe contenant le numéro de dossier et l'annotation**\n",
    "\n",
    "à noter: ca ne marche pas avec les filehtml.ann mais avec les filepdf.ann\n"
   ]
  },
  {
   "cell_type": "code",
   "execution_count": 69,
   "metadata": {},
   "outputs": [],
   "source": [
    "import pandas as pd\n",
    "def transformation(numeroDossier, dossier):\n",
    "    df= pd.read_csv(dossier, sep='\\t')\n",
    "    df.columns=['numéro','annotation','detail']\n",
    "    \n",
    "    # on transforme les annotations qui sont de type object et précisent\n",
    "    #  la place dans le dossier du texte annoté en string \n",
    "    df_ann=df['annotation'].convert_dtypes(convert_string=True)\n",
    "    df['annotation']=df_ann.str.split(expand=True)[0]\n",
    "    \n",
    "    # on supprime la colonne numéro\n",
    "    df.pop('numéro')\n",
    "    \n",
    "    # on pivote la data frame pour pouvoir trier chaque détail par annotation\n",
    "    df=df.pivot(columns='annotation')\n",
    "\n",
    "    # on tej le multiindex détail qui sert à rien\n",
    "    df=df[('detail')]\n",
    "\n",
    "    # on ajoute une colonne numéro de doss\n",
    "    df['Numéro Dossier']= numeroDossier\n",
    "    \n",
    "    # on crée des dataframes indépendantes pour les annotations qui nous intéressent:\n",
    "    # traitement, pathologie et examen\n",
    "    df_trait=df[['Numéro Dossier','traitement']].dropna()\n",
    "    df_path=df[['Numéro Dossier','pathologie']].dropna()\n",
    "    df_exam=df[['Numéro Dossier','examen']].dropna()\n",
    "    print(df_path)\n",
    "    print(df_trait)\n",
    "    \n",
    "    "
   ]
  },
  {
   "cell_type": "code",
   "execution_count": 70,
   "metadata": {},
   "outputs": [
    {
     "name": "stdout",
     "output_type": "stream",
     "text": [
      "annotation  Numéro Dossier                         pathologie\n",
      "2                        1  métastase hépatique et pulmonaire\n",
      "3                        1                métastases cutanées\n",
      "11                       1                       tumeur noire\n",
      "16                       1                métastases cutanées\n",
      "17                       1                       état général\n",
      "18                       1              état général conservé\n",
      "19                       1                     mélanome malin\n",
      "27                       1            métastase ganglionnaire\n",
      "28                       1                             tumeur\n",
      "41                       1       adénopathie inguinale gauche\n",
      "46                       1                             tumeur\n",
      "49                       1           tumeur circonférentielle\n",
      "57                       1                     mélanome malin\n",
      "59                       1              métastases viscérales\n",
      "annotation  Numéro Dossier            traitement\n",
      "0                        1  pénectomie partielle\n",
      "61                       1            amputation\n"
     ]
    }
   ],
   "source": [
    "# exemple pour 1 fichier:\n",
    "transformation(numeroDossier=1,dossier='filepdf-5-cas.ann')"
   ]
  },
  {
   "cell_type": "code",
   "execution_count": 71,
   "metadata": {},
   "outputs": [
    {
     "name": "stdout",
     "output_type": "stream",
     "text": [
      "annotation  Numéro Dossier                                     pathologie\n",
      "1                        2                                      prolapsus\n",
      "3                        2                         prolapsus de néo-vagin\n",
      "21                       2              carcinome urothélial de l'urèthre\n",
      "29                       2                                      métastase\n",
      "33                       2  cancer de l'urèthre étendu au trigone vésical\n",
      "45                       2                         prolapsus du néo-vagin\n",
      "52                       2            adénopathie ilio-obturatrice gauche\n",
      "annotation  Numéro Dossier                               traitement\n",
      "15                       2                            voie vaginale\n",
      "19                       2                anastomose caeco-vulvaire\n",
      "22                       2                  reconstruction vaginale\n",
      "32                       2                               anastomose\n",
      "37                       2                                 incision\n",
      "56                       2                                   opérée\n",
      "57                       2                  reconstruction vaginale\n",
      "59                       2                                résection\n",
      "62                       2  libération ascendante du caecum abaissé\n",
      "65                       2                                   curage\n",
      "67                       2                                   opérée\n",
      "69                       2                   anastomose iléocolique\n",
      "73                       2                   exentération pelvienne\n",
      "75                       2                   pelvectomie antérieure\n",
      "88                       2                             intervention\n"
     ]
    }
   ],
   "source": [
    "transformation(numeroDossier=2,dossier='filepdf-17-cas.ann')"
   ]
  },
  {
   "cell_type": "markdown",
   "metadata": {},
   "source": [
    "**On va maintenant créer une fonction qui prend plusieurs dossiers et renvoie une dataframe associée à chaque annotation**"
   ]
  },
  {
   "cell_type": "code",
   "execution_count": 133,
   "metadata": {},
   "outputs": [],
   "source": [
    "# la fonction prend en argument une liste de dossiers patients\n",
    "\n",
    "def creationDF(dossiers):\n",
    "    pathologies=[]\n",
    "    examens=[]\n",
    "    traitements=pd.DataFrame()\n",
    "    for i in range(len(dossiers)):\n",
    "        # dû à un problème de scope des variables de ma fonction transformation, \n",
    "        # je dois redéfinir cette même fonction dans celle-ci\n",
    "        # à l'origine j'avais écrit:\n",
    "        #transformation(numeroDossier=i+1, dossier=dossiers[i])\n",
    "        #pathologies.append(df_path)\n",
    "        #examens.append(df_exam)\n",
    "        #traitements.append(df_trait)\n",
    "        \n",
    "        df= pd.read_csv(dossiers[i], sep='\\t')\n",
    "        df.columns=['numéro','annotation','detail']\n",
    "    \n",
    "        df_ann=df['annotation'].convert_dtypes(convert_string=True)\n",
    "        df['annotation']=df_ann.str.split(expand=True)[0]\n",
    "    \n",
    "        df.pop('numéro')\n",
    "    \n",
    "        df=df.pivot(columns='annotation')\n",
    "\n",
    "        df=df[('detail')]\n",
    "\n",
    "        df['Numéro Dossier']= i+1\n",
    "        \n",
    "        # on supprime la colonne annotation pcq osef. En fait ca marche pas donc va garder lol\n",
    "        #df.drop('annotation', axis=1, inplace=True)\n",
    "        \n",
    "        df_trait=df[['Numéro Dossier','traitement']].dropna()\n",
    "        df_path=df[['Numéro Dossier','pathologie']].dropna()\n",
    "        df_exam=df[['Numéro Dossier','examen']].dropna()\n",
    "        \n",
    "        #pathologies.append(df_path)\n",
    "        #examens.append(df_exam)\n",
    "        traitements= traitements.append(df_trait, ignore_index=True)\n",
    "        \n",
    "    #juste pour avoir une visu de la data frame:\n",
    "    print(traitements)\n",
    "    #print(pathologies)\n",
    "    #print(examens)\n",
    "        \n",
    "        "
   ]
  },
  {
   "cell_type": "code",
   "execution_count": 134,
   "metadata": {},
   "outputs": [
    {
     "name": "stdout",
     "output_type": "stream",
     "text": [
      "annotation  Numéro Dossier                               traitement\n",
      "0                        1                     pénectomie partielle\n",
      "1                        1                               amputation\n",
      "2                        2                            voie vaginale\n",
      "3                        2                anastomose caeco-vulvaire\n",
      "4                        2                  reconstruction vaginale\n",
      "5                        2                               anastomose\n",
      "6                        2                                 incision\n",
      "7                        2                                   opérée\n",
      "8                        2                  reconstruction vaginale\n",
      "9                        2                                résection\n",
      "10                       2  libération ascendante du caecum abaissé\n",
      "11                       2                                   curage\n",
      "12                       2                                   opérée\n",
      "13                       2                   anastomose iléocolique\n",
      "14                       2                   exentération pelvienne\n",
      "15                       2                   pelvectomie antérieure\n",
      "16                       2                             intervention\n",
      "17                       3                              exploration\n",
      "18                       3                               lombotomie\n",
      "19                       3                                   opérée\n",
      "20                       3                                  exérèse\n",
      "None\n"
     ]
    }
   ],
   "source": [
    "#test:\n",
    "liste_dossiers=['filepdf-5-cas.ann','filepdf-17-cas.ann','filepdf-21-cas.ann']\n",
    "premier_essai=creationDF(liste_dossiers)\n",
    "print(premier_essai)\n",
    "#note: je comprend pas pourquoi annotation prend alors un ordre alphabetique"
   ]
  },
  {
   "cell_type": "markdown",
   "metadata": {},
   "source": [
    "** Premiers essais de visu **"
   ]
  },
  {
   "cell_type": "code",
   "execution_count": 103,
   "metadata": {},
   "outputs": [],
   "source": [
    "import plotly as plt\n",
    "import dash"
   ]
  },
  {
   "cell_type": "code",
   "execution_count": 132,
   "metadata": {},
   "outputs": [
    {
     "ename": "AttributeError",
     "evalue": "'NoneType' object has no attribute 'shape'",
     "output_type": "error",
     "traceback": [
      "\u001b[0;31m---------------------------------------------------------------------------\u001b[0m",
      "\u001b[0;31mAttributeError\u001b[0m                            Traceback (most recent call last)",
      "\u001b[0;32m<ipython-input-132-1bd88ac08654>\u001b[0m in \u001b[0;36m<module>\u001b[0;34m\u001b[0m\n\u001b[0;32m----> 1\u001b[0;31m \u001b[0mpremier_essai\u001b[0m\u001b[0;34m.\u001b[0m\u001b[0mshape\u001b[0m\u001b[0;34m(\u001b[0m\u001b[0;34m)\u001b[0m\u001b[0;34m\u001b[0m\u001b[0;34m\u001b[0m\u001b[0m\n\u001b[0m",
      "\u001b[0;31mAttributeError\u001b[0m: 'NoneType' object has no attribute 'shape'"
     ]
    }
   ],
   "source": [
    "premier_essai.shape()\n",
    "#on a un probleme de tyoe.. il semblerait que la df soit passée en type NoneType"
   ]
  },
  {
   "cell_type": "code",
   "execution_count": null,
   "metadata": {},
   "outputs": [],
   "source": []
  }
 ],
 "metadata": {
  "kernelspec": {
   "display_name": "Python 3",
   "language": "python",
   "name": "python3"
  },
  "language_info": {
   "codemirror_mode": {
    "name": "ipython",
    "version": 3
   },
   "file_extension": ".py",
   "mimetype": "text/x-python",
   "name": "python",
   "nbconvert_exporter": "python",
   "pygments_lexer": "ipython3",
   "version": "3.6.9"
  }
 },
 "nbformat": 4,
 "nbformat_minor": 2
}
